{
 "cells": [
  {
   "cell_type": "markdown",
   "metadata": {},
   "source": [
    "# Lists, dictionaries and tuples\n",
    "\n",
    "*Main sources*:\n",
    "\n",
    "* https://docs.python.org/3/tutorial/datastructures.html\n",
    "* https://docs.python.org/3/c-api/list.html\n",
    "* https://www.geeksforgeeks.org/python-data-structures/\n",
    "\n",
    "Data Structures are a way of organizing data so that it can be accessed more efficiently depending upon the situation."
   ]
  },
  {
   "cell_type": "markdown",
   "metadata": {},
   "source": [
    "## **(Dictionaries) Theory:**\n",
    "\n",
    "A Python dictionary, known in other languages as \"hash maps\", are used to store key-value pairs:\n",
    "* Key: An ID\n",
    "* Value: Data associated to that specific ID\n",
    "\n",
    "You can access the values using keys, insert new items, and remove existing items in constant time. There are dictionary methods to perform these operations essentially making dictionaries a very powerful tool to store, order and access data."
   ]
  },
  {
   "cell_type": "markdown",
   "metadata": {},
   "source": [
    "**Create a dictionary:**"
   ]
  },
  {
   "cell_type": "code",
   "execution_count": 1,
   "metadata": {},
   "outputs": [
    {
     "name": "stdout",
     "output_type": "stream",
     "text": [
      "{'model': '2024', 'vehicle program': 'S650'}\n"
     ]
    }
   ],
   "source": [
    "mustangSpecs = {\"model\":\"2024\", \"vehicle program\":\"S650\"}\n",
    "print(mustangSpecs)"
   ]
  },
  {
   "cell_type": "markdown",
   "metadata": {},
   "source": [
    "**Add values to dictionary using keys:**"
   ]
  },
  {
   "cell_type": "code",
   "execution_count": null,
   "metadata": {},
   "outputs": [],
   "source": [
    "mustangSpecs[\"engine\"] = \"V8 5.0\"\n",
    "mustangSpecs[\"market\"] = \"NA\"\n",
    "mustangSpecs[\"transmission\"] = \"automatic\"\n",
    "mustangSpecs[\"speeds\"] = \"7\"\n",
    "print(mustangSpecs)\n"
   ]
  },
  {
   "cell_type": "markdown",
   "metadata": {},
   "source": [
    "**Access data through keys:**"
   ]
  },
  {
   "cell_type": "code",
   "execution_count": null,
   "metadata": {},
   "outputs": [],
   "source": [
    "print(\"What kind of transmission does the Ford Mustang 2024 have? + reverse\")\n",
    "print(mustangSpecs[\"transmission\"])\n",
    "\n",
    "print(\"How many speeds does the Ford Mustang 2024 have?\")\n",
    "print(mustangSpecs[\"speeds\"])"
   ]
  },
  {
   "cell_type": "markdown",
   "metadata": {},
   "source": [
    "**Data manipulation:**"
   ]
  },
  {
   "cell_type": "code",
   "execution_count": null,
   "metadata": {},
   "outputs": [],
   "source": [
    "mustangSpecs.pop(\"vehicle program\")\n",
    "print(mustangSpecs)"
   ]
  },
  {
   "cell_type": "markdown",
   "metadata": {},
   "source": [
    "**Searching through data stored in a dictionary:**"
   ]
  },
  {
   "cell_type": "code",
   "execution_count": null,
   "metadata": {},
   "outputs": [],
   "source": [
    "print(\"engine\" in mustangSpecs)\n",
    "print(\"vehicle program\" in mustangSpecs)"
   ]
  },
  {
   "cell_type": "markdown",
   "metadata": {},
   "source": [
    "**Lists within dictionaries:**"
   ]
  },
  {
   "cell_type": "code",
   "execution_count": null,
   "metadata": {},
   "outputs": [],
   "source": [
    "testSuiteAudio = {\"Media\" : [10000, 10001, 10002], \"AMFM Tuner\" : [37000,37777,40000,41111], \"Voice Customer Services\" : [50000,59000,60000] }\n",
    "testResults = { \"Media\" : [\"Passed\", \"Failed\", \"Passed\"], \"AMFM Tuner\" : [\"Not executed\",\"Not executed\",\"Passed\",\"Failed\"], \"Voice Customer Services\" : [\"Failed\",\"Passed\",\"Failed\"]  }"
   ]
  },
  {
   "cell_type": "markdown",
   "metadata": {},
   "source": [
    "**Looping through sequences:**"
   ]
  },
  {
   "cell_type": "code",
   "execution_count": null,
   "metadata": {},
   "outputs": [],
   "source": [
    "feature = \"Voice Customer Services\"\n",
    "for testCase, result in zip(testSuiteAudio[feature], testResults[feature]):\n",
    "    print(\"Testcase \", testCase, \" had a resolution of \", result)"
   ]
  },
  {
   "cell_type": "code",
   "execution_count": null,
   "metadata": {},
   "outputs": [],
   "source": [
    "feature = \"Media\"\n",
    "listResults = []\n",
    "failures = 0\n",
    "\n",
    "for testCase, result in zip(testSuiteAudio[feature], testResults[feature]):\n",
    "    if(\"Failed\" in result):\n",
    "        listResults.append(\"Testcase \"+str(testCase)+\" failed\")\n",
    "        failures+=1\n",
    "\n",
    "print(\"Total of failures = \", failures)"
   ]
  },
  {
   "cell_type": "markdown",
   "metadata": {},
   "source": [
    "**Sorting dictionary values:**"
   ]
  },
  {
   "cell_type": "code",
   "execution_count": null,
   "metadata": {},
   "outputs": [],
   "source": [
    "testSuiteAudio = {\"Media\" : [10000, 95888, 24000], \"AMFM Tuner\" : [37000,15,190], \"Voice Customer Services\" : [5000,59,6] }\n",
    "\n",
    "feature = \"AMFM Tuner\"\n",
    "sortedTestcaseList = []\n",
    "\n",
    "for testCase in sorted(testSuiteAudio[feature]):\n",
    "    sortedTestcaseList.append(testCase)\n",
    "\n",
    "print(\"Testsuite for \",feature,\" : \",sortedTestcaseList)\n"
   ]
  },
  {
   "cell_type": "markdown",
   "metadata": {},
   "source": [
    "### More dictionary theory:"
   ]
  },
  {
   "cell_type": "markdown",
   "metadata": {},
   "source": [
    "**No duplicates allowed:** Same key but different value, overrides data"
   ]
  },
  {
   "cell_type": "code",
   "execution_count": null,
   "metadata": {},
   "outputs": [],
   "source": [
    "thisdict = { \"brand\": \"Ford\", \"model\": \"Mustang\", \"year\": 1964, \"year\": 2020 }\n",
    "print(thisdict)"
   ]
  },
  {
   "cell_type": "markdown",
   "metadata": {},
   "source": [
    "**All lists types have a size (length)**:"
   ]
  },
  {
   "cell_type": "code",
   "execution_count": null,
   "metadata": {},
   "outputs": [],
   "source": [
    "print(len(thisdict))"
   ]
  },
  {
   "cell_type": "code",
   "execution_count": null,
   "metadata": {},
   "outputs": [],
   "source": [
    "for i in range(0,len(thisdict)):\n",
    "    print(\"item i =\",i)\n",
    "    print(thisdict[i])"
   ]
  },
  {
   "cell_type": "code",
   "execution_count": null,
   "metadata": {},
   "outputs": [],
   "source": [
    "for key, value in thisdict.items():\n",
    "    print(\"key\",key,\"equals\", value)"
   ]
  },
  {
   "cell_type": "markdown",
   "metadata": {},
   "source": [
    "**Nested dictionary:**"
   ]
  },
  {
   "cell_type": "code",
   "execution_count": 3,
   "metadata": {},
   "outputs": [
    {
     "name": "stdout",
     "output_type": "stream",
     "text": [
      "no. of class values = 1\n",
      "no. of student values = 2\n",
      "no. of notes values = 2\n"
     ]
    }
   ],
   "source": [
    "subjectDictionary = {\n",
    "    \"class\": {\n",
    "        \"student\": {\n",
    "            \"name\": \"Mike\",\n",
    "            \"notes\": {\n",
    "                \"physics\": 70,\n",
    "                \"history\": 80\n",
    "            }\n",
    "        }\n",
    "    }\n",
    "}\n",
    "\n",
    "print(\"no. of class values =\",len(subjectDictionary[\"class\"]))\n",
    "print(\"no. of student values =\",len(subjectDictionary[\"class\"][\"student\"]))\n",
    "print(\"no. of notes values =\",len(subjectDictionary[\"class\"][\"student\"][\"notes\"]))"
   ]
  },
  {
   "cell_type": "code",
   "execution_count": 4,
   "metadata": {},
   "outputs": [
    {
     "name": "stdout",
     "output_type": "stream",
     "text": [
      "top level = {'class': {'student': {'name': 'Mike', 'notes': {'physics': 70, 'history': 80}}}}\n",
      "class value =  {'student': {'name': 'Mike', 'notes': {'physics': 70, 'history': 80}}}\n",
      "student value =  {'name': 'Mike', 'notes': {'physics': 70, 'history': 80}}\n",
      "student name value =  Mike\n"
     ]
    }
   ],
   "source": [
    "print(\"top level =\",subjectDictionary)\n",
    "print(\"class value = \",subjectDictionary[\"class\"])\n",
    "print(\"student value = \",subjectDictionary[\"class\"][\"student\"])\n",
    "print(\"student name value = \",subjectDictionary[\"class\"][\"student\"][\"name\"])"
   ]
  },
  {
   "cell_type": "markdown",
   "metadata": {},
   "source": [
    "*How to retrieve physics' note in this example?*"
   ]
  },
  {
   "cell_type": "code",
   "execution_count": null,
   "metadata": {},
   "outputs": [],
   "source": [
    "#Solution\n",
    "print(\"note for physics subject = \",subjectDictionary[\"class\"][\"student\"][\"notes\"][\"physics\"])"
   ]
  },
  {
   "cell_type": "markdown",
   "metadata": {},
   "source": [
    "**Create a dictionary from another dictionary:**"
   ]
  },
  {
   "cell_type": "code",
   "execution_count": null,
   "metadata": {},
   "outputs": [],
   "source": [
    "print(\"original dict:\",mustangSpecs)\n",
    "mustangSpecs[\"price\"] = 59995\n",
    "\n",
    "#mustangPricing will contain price ONLY:\n",
    "key = \"price\"\n",
    "\n",
    "mustangPricing = { key : mustangSpecs[key] }\n",
    "\n",
    "print(\"newly created dict:\",mustangPricing)"
   ]
  },
  {
   "cell_type": "markdown",
   "metadata": {},
   "source": [
    "*Create another dictionary with engine/transmission specs*"
   ]
  },
  {
   "cell_type": "code",
   "execution_count": null,
   "metadata": {},
   "outputs": [],
   "source": [
    "#Solution\n",
    "keys = [\"engine\", \"transmission\",\"speeds\"]\n",
    "\n",
    "mustangEngine = { data : mustangSpecs[data] for data in keys }\n",
    "print(\"technical specs dict:\",mustangEngine)"
   ]
  },
  {
   "cell_type": "markdown",
   "metadata": {},
   "source": [
    "## **(Dictionaries) Practice section:**"
   ]
  },
  {
   "cell_type": "markdown",
   "metadata": {},
   "source": [
    "#### Ex1: Write a program that creates a dictionary for the following FUN Area. Keys are usecases, testcase ID, values are either normal testcase or basic function testcase (highlighted in blue).\n",
    "\n",
    "* nested dictionary e.g.\n",
    "\n",
    ">        androidAuto = \n",
    ">        { \n",
    ">            usecase : \n",
    ">            { \n",
    ">                ID : \"testcase\", \n",
    ">                ID : \"bft\", \n",
    ">            ...     \n",
    ">            }        \n",
    ">        }\n",
    "\n",
    "**Print the dictionary**\n",
    "\n",
    "(10 min max)\n",
    "\n",
    "<img src=\"img/testcases.PNG\">"
   ]
  },
  {
   "cell_type": "code",
   "execution_count": null,
   "metadata": {},
   "outputs": [],
   "source": [
    "#Solution\n",
    "androidAuto = {\"wireless android auto\" : { \n",
    "        134496 : \"testcase\",\n",
    "        134616 : \"bft\",\n",
    "        134732 : \"testcase\",\n",
    "        134733 : \"testcase\",\n",
    "        134756 : \"testcase\",\n",
    "        134757 : \"testcase\",\n",
    "        134770 : \"testcase\",\n",
    "        134771 : \"testcase\",\n",
    "        134779 : \"testcase\",\n",
    "        145799 : \"testcase\",\n",
    "        145867 : \"testcase\",\n",
    "        145868 : \"testcase\",\n",
    "        173103 : \"bft\"\n",
    "    },\n",
    "    \"google automotive link device connection\" : { \n",
    "        131155 : \"testcase\",\n",
    "        145543 : \"testcase\",\n",
    "        145605 : \"testcase\",\n",
    "        145870 : \"testcase\",\n",
    "        156602 : \"testcase\",\n",
    "        156658 : \"testcase\"\n",
    "    },\n",
    "    \"incoming phone call\" : { \n",
    "        131163 : \"bft\",\n",
    "        131164 : \"testcase\",\n",
    "        131165 : \"testcase\",\n",
    "        131169 : \"bft\",\n",
    "        131171 : \"testcase\",\n",
    "        131172 : \"testcase\",\n",
    "        131173 : \"testcase\"\n",
    "    },\n",
    "    \"voice commands\" : {\n",
    "        175162 : \"bft\"\n",
    "    }\n",
    "}\n",
    "\n",
    "print(androidAuto)"
   ]
  },
  {
   "cell_type": "markdown",
   "metadata": {},
   "source": [
    "#### Ex2: USING LOOPS iterate through all keys and values in the dictionary, print only the IDs of bfts\n",
    "\n",
    "(5 min max)\n",
    "\n",
    "* example:\n",
    "\n",
    ">        for usecaseX in dict ...\n",
    ">                for id, test in usecaseX ... "
   ]
  },
  {
   "cell_type": "code",
   "execution_count": null,
   "metadata": {},
   "outputs": [],
   "source": [
    "for usecase in androidAuto:\n",
    "    for ID, test in androidAuto[usecase].items():\n",
    "        if(test == \"bft\"):\n",
    "            print(ID, \"is to be tested\")"
   ]
  },
  {
   "cell_type": "markdown",
   "metadata": {},
   "source": [
    "#### Ex3: Using the last example, loop through all keys and values in the dictionary. Print both lists:\n",
    "\n",
    "(5 min max)\n",
    "\n",
    "* create a list with bft IDs called \"toBeTested\"\n",
    "* create another list with the rest of the IDs called \"nextTestingRound\"\n"
   ]
  },
  {
   "cell_type": "code",
   "execution_count": null,
   "metadata": {},
   "outputs": [],
   "source": [
    "toBeTested = [ ]\n",
    "nextTestingRound = [ ]\n",
    "\n",
    "for usecase in androidAuto:\n",
    "    for ID, test in androidAuto[usecase].items():\n",
    "        if(test == \"bft\"):\n",
    "            toBeTested.append(ID)\n",
    "        else:\n",
    "            nextTestingRound.append(ID)\n",
    "\n",
    "print(\"BFTs:\",toBeTested)\n",
    "print(\"Next round:\",nextTestingRound)"
   ]
  },
  {
   "cell_type": "markdown",
   "metadata": {},
   "source": [
    "#### Ex4 (OPTIONAL): Sort toBeTested list from min to max and nextTestingRound from max to min"
   ]
  },
  {
   "cell_type": "code",
   "execution_count": null,
   "metadata": {},
   "outputs": [],
   "source": [
    "toBeTested.sort()\n",
    "nextTestingRound.sort(reverse=True)\n",
    "\n",
    "print(\"BFTs sorted min to max:\",toBeTested)\n",
    "print(\"Next round sorted min to max:\",nextTestingRound)"
   ]
  }
 ],
 "metadata": {
  "kernelspec": {
   "display_name": "Python 3 (ipykernel)",
   "language": "python",
   "name": "python3"
  },
  "language_info": {
   "codemirror_mode": {
    "name": "ipython",
    "version": 3
   },
   "file_extension": ".py",
   "mimetype": "text/x-python",
   "name": "python",
   "nbconvert_exporter": "python",
   "pygments_lexer": "ipython3",
   "version": "3.10.6"
  }
 },
 "nbformat": 4,
 "nbformat_minor": 2
}
