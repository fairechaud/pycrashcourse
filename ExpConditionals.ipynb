{
 "cells": [
  {
   "attachments": {},
   "cell_type": "markdown",
   "metadata": {},
   "source": [
    "# Expressions and conditionals\n",
    "\n",
    "*Main sources*:\n",
    "\n",
    "* https://docs.python.org/3/library/stdtypes.html\n",
    "* https://www.w3schools.com/python/python_conditions.asp\n",
    "* https://realpython.com/python-operators-expressions/\n",
    "\n"
   ]
  },
  {
   "attachments": {},
   "cell_type": "markdown",
   "metadata": {},
   "source": [
    "## **(Expressions) Theory:**\n",
    "\n",
    "(10 min max)\n",
    "\n",
    "Once we introduced the basics of variables in Python, we'll now talk about how to perform calculations and utilize their results to our advantage. \n",
    "\n",
    "We'll create complex **expressions** by combining variables (objects) and **operators**.\n",
    "\n",
    "* Operators: special symbols that designate operations to be performed, the values that are acted upon are **operands**"
   ]
  },
  {
   "attachments": {},
   "cell_type": "markdown",
   "metadata": {},
   "source": [
    "### Arithmetic operators\n",
    "\n",
    "<img src=\"img/arithm.PNG\">"
   ]
  },
  {
   "cell_type": "code",
   "execution_count": null,
   "metadata": {},
   "outputs": [],
   "source": [
    "x = 5\n",
    "y = 4\n",
    "result = x+y\n",
    "print(result)"
   ]
  },
  {
   "cell_type": "code",
   "execution_count": null,
   "metadata": {},
   "outputs": [],
   "source": [
    "x = 5\n",
    "y = 0.5\n",
    "result = x-y\n",
    "print(result)"
   ]
  },
  {
   "attachments": {},
   "cell_type": "markdown",
   "metadata": {},
   "source": [
    "* Expressions: a sequence of **operands** and **operators**, such as *a + b - 5* is called an **expression**"
   ]
  },
  {
   "cell_type": "code",
   "execution_count": null,
   "metadata": {},
   "outputs": [],
   "source": [
    "x = 20\n",
    "y = 4\n",
    "z = 5\n",
    "result = x/y*z\n",
    "print(result)\n",
    "# NOTE: The result of division is ALWAYS a float"
   ]
  },
  {
   "cell_type": "code",
   "execution_count": null,
   "metadata": {},
   "outputs": [],
   "source": [
    "x = 20\n",
    "y = 4\n",
    "z = 5\n",
    "result = x/(y*z)\n",
    "print(result)"
   ]
  },
  {
   "attachments": {},
   "cell_type": "markdown",
   "metadata": {},
   "source": [
    "### Other numeric operators\n",
    "\n",
    "<img src=\"img/numeric.PNG\">"
   ]
  },
  {
   "cell_type": "code",
   "execution_count": null,
   "metadata": {},
   "outputs": [],
   "source": [
    "x = 25\n",
    "y = 4\n",
    "result = divmod(x,y)\n",
    "print(result)\n",
    "#print(type(result))"
   ]
  },
  {
   "cell_type": "code",
   "execution_count": null,
   "metadata": {},
   "outputs": [],
   "source": [
    "x = 2\n",
    "y = 3\n",
    "result = x**y\n",
    "print(result)"
   ]
  },
  {
   "attachments": {},
   "cell_type": "markdown",
   "metadata": {},
   "source": [
    "## **(Expressions) Practice section:**"
   ]
  },
  {
   "attachments": {},
   "cell_type": "markdown",
   "metadata": {},
   "source": [
    "#### Ex 1: Write a program to calculate a triangle's area\n",
    "(5 mins max)\n",
    "* b = 12, \n",
    "* h = 9, \n",
    "* area = ? \n",
    "\n"
   ]
  },
  {
   "cell_type": "code",
   "execution_count": null,
   "metadata": {},
   "outputs": [],
   "source": [
    "#Solution\n",
    "b = 12\n",
    "h = 9\n",
    "area = b*h/2\n",
    "print(area)"
   ]
  },
  {
   "attachments": {},
   "cell_type": "markdown",
   "metadata": {},
   "source": [
    "#### Ex 2: Write a program to calculate a triangle's hypotenuse \n",
    "(5 mins max)\n",
    "* a = 9, \n",
    "* b = 12, \n",
    "* c = ?"
   ]
  },
  {
   "cell_type": "code",
   "execution_count": 2,
   "metadata": {},
   "outputs": [
    {
     "name": "stdout",
     "output_type": "stream",
     "text": [
      "15.0\n"
     ]
    }
   ],
   "source": [
    "#Solution\n",
    "a = 9\n",
    "b = 12\n",
    "c = ((a**2)+(b**2))**(1/2)\n",
    "print(c)"
   ]
  },
  {
   "attachments": {},
   "cell_type": "markdown",
   "metadata": {},
   "source": [
    "#### Ex 3: Ford Hermosillo has produced 6,129,133 vehicles since it opened in 1986. What is the average production per year up to 2023? \n",
    "\n",
    "**NOTE:** No decimals, only integers allowed\n",
    "\n",
    "(5 mins max)"
   ]
  },
  {
   "cell_type": "code",
   "execution_count": null,
   "metadata": {},
   "outputs": [],
   "source": [
    "#Solution 1 : casting a float to int\n",
    "initialYear = 1986\n",
    "currentYear = 2023\n",
    "vehicles = 6129133\n",
    "result = int(vehicles/(currentYear-initialYear))\n",
    "\n",
    "print(result)"
   ]
  },
  {
   "cell_type": "code",
   "execution_count": null,
   "metadata": {},
   "outputs": [],
   "source": [
    "#Solution 2 : floored division\n",
    "initialYear = 1986\n",
    "currentYear = 2023\n",
    "vehicles = 6129133\n",
    "result = vehicles//(currentYear-initialYear)\n",
    "\n",
    "print(result)"
   ]
  },
  {
   "attachments": {},
   "cell_type": "markdown",
   "metadata": {},
   "source": [
    "#### Ex 4: The SW development department has a budget of 235,700 USD for 30 projects. What is the leftover budget after each project has been funded evenly?\n",
    "\n",
    "(5 min max)\n",
    "\n",
    "* projects = 30\n",
    "* budget = 235700\n",
    "* leftover (remainder) = ?"
   ]
  },
  {
   "cell_type": "code",
   "execution_count": 17,
   "metadata": {},
   "outputs": [
    {
     "name": "stdout",
     "output_type": "stream",
     "text": [
      "20\n"
     ]
    }
   ],
   "source": [
    "#Solution\n",
    "projects = 30\n",
    "budget = 235700 \n",
    "remainder = budget % projects\n",
    "\n",
    "print(remainder)"
   ]
  },
  {
   "attachments": {},
   "cell_type": "markdown",
   "metadata": {},
   "source": [
    "## (Conditionals) Theory\n",
    "(10 min max)"
   ]
  },
  {
   "attachments": {},
   "cell_type": "markdown",
   "metadata": {},
   "source": [
    "### Logical operators - and, or, not\n",
    "\n",
    "<img src=\"img/logic.PNG\">\n",
    "\n",
    "**x or y**"
   ]
  },
  {
   "cell_type": "code",
   "execution_count": null,
   "metadata": {},
   "outputs": [],
   "source": [
    "x = True\n",
    "y = False\n",
    "print(x or y)"
   ]
  },
  {
   "attachments": {},
   "cell_type": "markdown",
   "metadata": {},
   "source": [
    "**x and y**"
   ]
  },
  {
   "cell_type": "code",
   "execution_count": null,
   "metadata": {},
   "outputs": [],
   "source": [
    "x = True\n",
    "y = False\n",
    "print(x and y)"
   ]
  },
  {
   "attachments": {},
   "cell_type": "markdown",
   "metadata": {},
   "source": [
    "**not x**"
   ]
  },
  {
   "cell_type": "code",
   "execution_count": null,
   "metadata": {},
   "outputs": [],
   "source": [
    "x = True\n",
    "print(not x)"
   ]
  },
  {
   "attachments": {},
   "cell_type": "markdown",
   "metadata": {},
   "source": [
    "### Comparison operators\n",
    "\n",
    "<img src=\"img/compare.PNG\">"
   ]
  },
  {
   "cell_type": "code",
   "execution_count": null,
   "metadata": {},
   "outputs": [],
   "source": [
    "x = 5\n",
    "y = 4\n",
    "print(x<y)"
   ]
  },
  {
   "cell_type": "code",
   "execution_count": null,
   "metadata": {},
   "outputs": [],
   "source": [
    "x = 10\n",
    "y = 10\n",
    "print(x>=y)"
   ]
  },
  {
   "cell_type": "code",
   "execution_count": null,
   "metadata": {},
   "outputs": [],
   "source": [
    "x = 6\n",
    "y = 10\n",
    "print(x is not y)"
   ]
  },
  {
   "cell_type": "code",
   "execution_count": null,
   "metadata": {},
   "outputs": [],
   "source": [
    "x = 3\n",
    "y = 10\n",
    "z = 25\n",
    "print(x<y<z)"
   ]
  },
  {
   "attachments": {},
   "cell_type": "markdown",
   "metadata": {},
   "source": [
    "### Truth Value Testing : If statement\n",
    "\n",
    "Objects can be tested for truth and used on *if* and *while* conditions or as operands for Boolean operations. We can control the flow of execution by setting conditions:\n",
    "\n",
    "**Base example - if scope:**"
   ]
  },
  {
   "cell_type": "code",
   "execution_count": null,
   "metadata": {},
   "outputs": [],
   "source": [
    "a = 33\n",
    "b = 200\n",
    "if b > a: # colon symbol (:) means this is where if's scope begins\n",
    "  print(\"b is greater than a\") # this line HAS INDENTATION. This line is within if's scope = it has a tab space to signal that it is part of the if structure"
   ]
  },
  {
   "attachments": {},
   "cell_type": "markdown",
   "metadata": {},
   "source": [
    "**Elif scope:**"
   ]
  },
  {
   "cell_type": "code",
   "execution_count": null,
   "metadata": {},
   "outputs": [],
   "source": [
    "a = 33\n",
    "b = 33\n",
    "if b > a:\n",
    "  print(\"b is greater than a\")\n",
    "elif a == b: # elif \"breaks\" if, i.e. it's not indented, this is the begin of another scope marked by colon (:)\n",
    "  print(\"a and b are equal\") # notice how this print statement is indented because it is part of elif"
   ]
  },
  {
   "attachments": {},
   "cell_type": "markdown",
   "metadata": {},
   "source": [
    "**Else scope:**"
   ]
  },
  {
   "cell_type": "code",
   "execution_count": null,
   "metadata": {},
   "outputs": [],
   "source": [
    "a = 200\n",
    "b = 33\n",
    "if b > a:\n",
    "  print(\"b is greater than a\")\n",
    "elif a == b:\n",
    "  print(\"a and b are equal\")\n",
    "else:\n",
    "  print(\"a is greater than b\")"
   ]
  },
  {
   "cell_type": "code",
   "execution_count": null,
   "metadata": {},
   "outputs": [],
   "source": [
    "a = 200\n",
    "b = 33\n",
    "if b > a:\n",
    "  print(\"b is greater than a\")\n",
    "else:\n",
    "  print(\"b is not greater than a\")"
   ]
  },
  {
   "attachments": {},
   "cell_type": "markdown",
   "metadata": {},
   "source": [
    "**Alternative: short syntax**"
   ]
  },
  {
   "cell_type": "code",
   "execution_count": null,
   "metadata": {},
   "outputs": [],
   "source": [
    "a = 200\n",
    "b = 33\n",
    "print(\"A is greater\") if a > b else print(\"B is greater\")"
   ]
  },
  {
   "attachments": {},
   "cell_type": "markdown",
   "metadata": {},
   "source": [
    "### Combined conditional statements\n",
    "\n",
    "and, or, not are all logical operators than can be chained together with comparison operators.\n",
    "\n",
    "**if - and/or/not:**"
   ]
  },
  {
   "cell_type": "code",
   "execution_count": null,
   "metadata": {},
   "outputs": [],
   "source": [
    "a = 200\n",
    "b = 33\n",
    "c = 500\n",
    "if a > b and c > a:\n",
    "  print(\"Both conditions are True\")\n",
    "if a > b or a > c:\n",
    "  print(\"At least one of the conditions is True\")\n",
    "if not a > b:\n",
    "  print(\"a is NOT greater than b\")"
   ]
  },
  {
   "attachments": {},
   "cell_type": "markdown",
   "metadata": {},
   "source": [
    "### Nested if\n",
    "You can also have **if** statements inside **if** statements:"
   ]
  },
  {
   "cell_type": "code",
   "execution_count": null,
   "metadata": {},
   "outputs": [],
   "source": [
    "x = 41\n",
    "\n",
    "if x > 10:\n",
    "  print(\"Above ten,\")\n",
    "  if x > 20: # this if is part of the first if's scope = it is INDENTED\n",
    "    print(\"and also above 20!\")\n",
    "  else:\n",
    "    print(\"but not above 20.\")\n",
    "    # if's scope ends\n",
    "print(\"if statement has been exited\")"
   ]
  },
  {
   "attachments": {},
   "cell_type": "markdown",
   "metadata": {},
   "source": [
    "## (Conditionals) Practice session - if\n",
    "(10 min max)"
   ]
  },
  {
   "attachments": {},
   "cell_type": "markdown",
   "metadata": {},
   "source": [
    "#### Ex 1: Define the age of 3 people and display who is the oldest between them:\n",
    "\n",
    "(5 min max)\n",
    "\n",
    "* firstAge = defined by you\n",
    "* secondAge =defined by you\n",
    "* thirdAge = defined by you"
   ]
  },
  {
   "cell_type": "code",
   "execution_count": 21,
   "metadata": {},
   "outputs": [
    {
     "name": "stdout",
     "output_type": "stream",
     "text": [
      "Second person is older\n"
     ]
    }
   ],
   "source": [
    "#Solution\n",
    "firstAge = 18\n",
    "secondAge = 31\n",
    "thirdAge = 25\n",
    "\n",
    "if firstAge > (secondAge or thirdAge):\n",
    "    print(\"First person is older\")\n",
    "elif secondAge > (firstAge or thirdAge):\n",
    "        print(\"Second person is older\")\n",
    "elif thirdAge > (firstAge or secondAge):\n",
    "            print(\"Third person is older\")\n",
    "else:\n",
    "    print(\"Not sure who is older\") # be careful with else scenarios, these may be outside of scope"
   ]
  },
  {
   "attachments": {},
   "cell_type": "markdown",
   "metadata": {},
   "source": [
    "#### Ex 2: Print \"Hello!\" if a number is divisible by 5 (no remainder), print \"Bye.\" if it's not:\n",
    "(5 min max)\n",
    "\n",
    "* number = defined by you \n",
    "\n",
    "*contemplate both scenarios, one number for Hello! and another one for Bye.*"
   ]
  },
  {
   "cell_type": "code",
   "execution_count": 22,
   "metadata": {},
   "outputs": [
    {
     "name": "stdout",
     "output_type": "stream",
     "text": [
      "Hello!\n",
      "Bye.\n"
     ]
    }
   ],
   "source": [
    "#Solution\n",
    "#Hello! printed\n",
    "\n",
    "number = 1000\n",
    "if number%5 == 0:\n",
    "    print(\"Hello!\")\n",
    "else:\n",
    "    print(\"Bye.\")\n",
    "    \n",
    "#Bye. printed\n",
    "number = 24\n",
    "if number%5 == 0:\n",
    "    print(\"Hello!\")\n",
    "else:\n",
    "    print(\"Bye.\")"
   ]
  },
  {
   "attachments": {},
   "cell_type": "markdown",
   "metadata": {},
   "source": [
    "## (Conditionals) Theory - While loop\n",
    "(5 min max)\n",
    "\n",
    "The while loop in Python is used to execute a set of statements as **long as a condition is true.**\n",
    "\n",
    "**While loop:**"
   ]
  },
  {
   "cell_type": "code",
   "execution_count": 2,
   "metadata": {},
   "outputs": [],
   "source": [
    "import time"
   ]
  },
  {
   "cell_type": "code",
   "execution_count": 18,
   "metadata": {},
   "outputs": [
    {
     "name": "stdout",
     "output_type": "stream",
     "text": [
      "1\n",
      "2\n",
      "3\n",
      "4\n",
      "5\n"
     ]
    }
   ],
   "source": [
    "i = 1\n",
    "while i < 6: # Beginning of a scope, statements have to be indented to reflect that they're contained within the loop\n",
    "  print(i) \n",
    "  i += 1\n",
    "  time.sleep(1) # this is just a delay in execution to show the loop progression"
   ]
  },
  {
   "attachments": {},
   "cell_type": "markdown",
   "metadata": {},
   "source": [
    "With the **else** statement we can run a block of code once when the condition no longer is true.\n",
    "\n",
    "**While - Else loop:**"
   ]
  },
  {
   "cell_type": "code",
   "execution_count": 17,
   "metadata": {},
   "outputs": [
    {
     "name": "stdout",
     "output_type": "stream",
     "text": [
      "1\n",
      "2\n",
      "3\n",
      "4\n",
      "5\n",
      "6\n",
      "i equal to 6\n"
     ]
    }
   ],
   "source": [
    "i = 1\n",
    "while i < 6:\n",
    "  print(i)\n",
    "  i += 1\n",
    "  time.sleep(1) # this is just a delay in execution to show the loop progression\n",
    "else:\n",
    "  print(\"i is no longer smaller than 6\")"
   ]
  },
  {
   "attachments": {},
   "cell_type": "markdown",
   "metadata": {},
   "source": [
    "## (Conditionals) Practice session - while"
   ]
  },
  {
   "attachments": {},
   "cell_type": "markdown",
   "metadata": {},
   "source": [
    "#### Ex 1: Write a loop that adds all the numbers up to 500. Print the result\n",
    "\n",
    "(5 min max)\n",
    "* Start counting from 0, count = 0\n",
    "\n",
    "Extra:\n",
    "* Print the number of loops executed, loops = ?"
   ]
  },
  {
   "cell_type": "code",
   "execution_count": 31,
   "metadata": {},
   "outputs": [
    {
     "name": "stdout",
     "output_type": "stream",
     "text": [
      "Count reached  500  in  501  loops\n"
     ]
    }
   ],
   "source": [
    "#Solution\n",
    "count = 0\n",
    "loops = 1\n",
    "\n",
    "while count < 500:\n",
    "    count+=1\n",
    "    loops+=1\n",
    "\n",
    "print(\"Count reached \",count,\" in \",loops,\" loops\")"
   ]
  },
  {
   "attachments": {},
   "cell_type": "markdown",
   "metadata": {},
   "source": [
    "## Extra : While loops\n",
    "\n",
    "These can also be used to execute a main set of tasks (similar to a main loop in other programming languages).\n",
    "WARNING: Pay close attention to the while condition for execution, otherwise you'll have unstoppable loops:"
   ]
  },
  {
   "cell_type": "code",
   "execution_count": null,
   "metadata": {},
   "outputs": [],
   "source": [
    "secondsPassed = 0\n",
    "print(\"Program running\\n\")\n",
    "\n",
    "while(True):\n",
    "    time.sleep(1)\n",
    "    secondsPassed+=1\n",
    "\n",
    "    print(\"\\n\"+str(secondsPassed)+\" seconds have passed since execution began.\")\n",
    "\n",
    "# how to stop execution in this scenario? While condition is ALWAYS true with no way to stop\n",
    "# it from inside the program"
   ]
  }
 ],
 "metadata": {
  "kernelspec": {
   "display_name": "Python 3",
   "language": "python",
   "name": "python3"
  },
  "language_info": {
   "codemirror_mode": {
    "name": "ipython",
    "version": 3
   },
   "file_extension": ".py",
   "mimetype": "text/x-python",
   "name": "python",
   "nbconvert_exporter": "python",
   "pygments_lexer": "ipython3",
   "version": "3.10.6"
  },
  "orig_nbformat": 4
 },
 "nbformat": 4,
 "nbformat_minor": 2
}
