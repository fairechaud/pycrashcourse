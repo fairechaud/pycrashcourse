{
 "cells": [
  {
   "attachments": {},
   "cell_type": "markdown",
   "metadata": {},
   "source": [
    "# Lists, dictionaries and tuples\n",
    "\n",
    "*Main sources*:\n",
    "\n",
    "* https://docs.python.org/3/tutorial/datastructures.html\n",
    "* https://docs.python.org/3/c-api/list.html\n",
    "* https://www.geeksforgeeks.org/python-data-structures/\n",
    "\n",
    "Data Structures are a way of organizing data so that it can be accessed more efficiently depending upon the situation."
   ]
  },
  {
   "attachments": {},
   "cell_type": "markdown",
   "metadata": {},
   "source": [
    "## **(Lists) Theory:**\n",
    "\n",
    "Python Lists are just like arrays (in other languages), i.e. an ordered collection of data. It is very flexible as the items in a list **may o may not be** of the same type. \n",
    "\n",
    "Retrieving an element at the end of the list *can be costly performance-wise* because you have to **iterate** to the end of the list in order to add/delete an element."
   ]
  },
  {
   "attachments": {},
   "cell_type": "markdown",
   "metadata": {},
   "source": [
    "**Create a List in Python:**"
   ]
  },
  {
   "cell_type": "code",
   "execution_count": null,
   "metadata": {},
   "outputs": [],
   "source": [
    "listExample = [1,2,3,\"Ford\", 5, \"Lincoln\", 7.0]\n",
    "print(listExample)          "
   ]
  },
  {
   "attachments": {},
   "cell_type": "markdown",
   "metadata": {},
   "source": [
    "you can access list items via their index. The starting position of the list is **0**, the end (last element) of the list is represented as **-1**:"
   ]
  },
  {
   "cell_type": "code",
   "execution_count": null,
   "metadata": {},
   "outputs": [],
   "source": [
    "listExample = [\"first\",2,3,4,5,6,7,8,9,\"last\"]\n",
    "print(listExample[0]) # prints the position 0 of list\n",
    "print(listExample[-1]) # print the end item of list"
   ]
  },
  {
   "attachments": {},
   "cell_type": "markdown",
   "metadata": {},
   "source": [
    "**Question: which index between the brackets will access number 5 on the list?**"
   ]
  },
  {
   "cell_type": "code",
   "execution_count": null,
   "metadata": {},
   "outputs": [],
   "source": [
    "index = ?\n",
    "print(listExample[index])"
   ]
  },
  {
   "attachments": {},
   "cell_type": "markdown",
   "metadata": {},
   "source": [
    "Since a list is a structure of data grouped together which is accesible through an incremental index, it is possible to **iterate** through the list\n",
    "\n",
    "**Iterating through a list (For loops):**"
   ]
  },
  {
   "cell_type": "code",
   "execution_count": null,
   "metadata": {},
   "outputs": [],
   "source": [
    "listExample = [\"Mustang\", \"Bronco\", \"Maverick\"]\n",
    "\n",
    "for item in listExample:\n",
    "    print(item)\n"
   ]
  },
  {
   "cell_type": "code",
   "execution_count": null,
   "metadata": {},
   "outputs": [],
   "source": [
    "listExample = [\"Mustang\", \"Bronco\", \"Maverick\"]\n",
    "\n",
    "for i in range(0,len(listExample)): # len(object) is the 'length' or size of the chosen object. listExample has 3 items, i.e. length of 3\n",
    "    print(listExample[i])\n"
   ]
  },
  {
   "attachments": {},
   "cell_type": "markdown",
   "metadata": {},
   "source": [
    "the for loop above is equal to:\n",
    "\n",
    "> for (i=0; i<=3; i++) {\n",
    ">\n",
    ">}\n",
    "\n",
    "in other languages"
   ]
  },
  {
   "attachments": {},
   "cell_type": "markdown",
   "metadata": {},
   "source": [
    "Add elements, create lists on the go.\n",
    "\n",
    "The list data type has some **methods**, these allow operations to be performed on the data list:\n",
    "* **list.append(x)**:   add an item at the end of the list \n",
    "* **list.extend(secondList)**:  add a secondList at the end of the base list\n",
    "* **list.insert(i,x)**: replace item i with the value x\n",
    "* **list.pop()**:   return and remove the last item in the list"
   ]
  },
  {
   "attachments": {},
   "cell_type": "markdown",
   "metadata": {},
   "source": [
    "**list.append() example**"
   ]
  },
  {
   "cell_type": "code",
   "execution_count": null,
   "metadata": {},
   "outputs": [],
   "source": [
    "listExample = []\n",
    "\n",
    "string1 = \"Mustang\"\n",
    "string2 = \"Bronco\"\n",
    "string3 = \"Maverick\"\n",
    "\n",
    "print(listExample, \" base list, no append yet\")\n",
    "listExample.append(string1)\n",
    "print(listExample, \" list after first append\")\n",
    "listExample.append(string2)\n",
    "print(listExample, \" list after second append\")\n",
    "listExample.append(string3)\n",
    "print(listExample, \" list after third append\")"
   ]
  },
  {
   "attachments": {},
   "cell_type": "markdown",
   "metadata": {},
   "source": [
    "**list.pop() example**"
   ]
  },
  {
   "cell_type": "code",
   "execution_count": null,
   "metadata": {},
   "outputs": [],
   "source": [
    "listExample = [\"Mustang\", \"Bronco\", \"Maverick\"]\n",
    "\n",
    "print(listExample, \" base list, no pop yet\")\n",
    "print(listExample.pop())\n",
    "print(listExample, \" list after first pop\")\n",
    "print(listExample.pop())\n",
    "print(listExample, \" list after second pop\")\n",
    "print(listExample.pop())\n",
    "print(listExample, \" list after third pop\")\n"
   ]
  },
  {
   "attachments": {},
   "cell_type": "markdown",
   "metadata": {},
   "source": [
    "Find if an element is contained within a list.\n",
    "\n",
    "list with **in operator**"
   ]
  },
  {
   "cell_type": "code",
   "execution_count": null,
   "metadata": {},
   "outputs": [],
   "source": [
    "nums = [0,1,2,3,4,5,6,7,8,9]\n",
    "\n",
    "print(3 in nums)"
   ]
  },
  {
   "attachments": {},
   "cell_type": "markdown",
   "metadata": {},
   "source": [
    "Sort a list, ascending or descending order, alphabetical, etc.\n",
    "\n",
    "**list.sort() method:**"
   ]
  },
  {
   "cell_type": "code",
   "execution_count": null,
   "metadata": {},
   "outputs": [],
   "source": [
    "#list contains all numbers from lowest to max\n",
    "list = [3,4,0,-2,13,200,6.8,6.81,32,-1000]\n",
    "list.sort()\n",
    "print(list)"
   ]
  },
  {
   "cell_type": "code",
   "execution_count": null,
   "metadata": {},
   "outputs": [],
   "source": [
    "#list contains all numbers from max to lowest\n",
    "list = [3,4,0,-2,13,200,6.8,6.81,32,-1000]\n",
    "list.sort(reverse=True)\n",
    "print(list)"
   ]
  },
  {
   "cell_type": "code",
   "execution_count": null,
   "metadata": {},
   "outputs": [],
   "source": [
    "#list contains words\n",
    "list = [\"Explorer\", \"Mustang\", \"Bronco\", \"Maverick\", \"Falcon\", \"Thunderbird\", \"Edsel\", \"Model T\"]\n",
    "list.sort()\n",
    "print(list)\n",
    "list.sort(reverse=True)\n",
    "print(list)"
   ]
  },
  {
   "attachments": {},
   "cell_type": "markdown",
   "metadata": {},
   "source": [
    "## **(Lists) Practice section:**\n",
    "(5 mins max)"
   ]
  },
  {
   "attachments": {},
   "cell_type": "markdown",
   "metadata": {},
   "source": [
    "#### Ex 1: Write a program with 2 lists: vehicles and prices. Iterate through both lists and print out each vehicle and its price from most expensive to cheapest\n",
    "* Vehicles will contain Ford's electric vehicles, \n",
    "* Prices will contain each vehicle's price (USD)\n",
    "\n",
    "Use the image below for reference:\n",
    "\n",
    "<img src=\"img/vehicles.PNG\">"
   ]
  },
  {
   "cell_type": "code",
   "execution_count": null,
   "metadata": {},
   "outputs": [],
   "source": [
    "#Solution\n",
    "vehicles = [\"F-150 Lightning\",\"E-Transit\",\"Mustang Mach-E\"]\n",
    "prices = [59974,45995,42995]\n",
    "\n",
    "for i in range(0,len(vehicles)):\n",
    "    print(\"The price for the \", vehicles[i],\" is \",prices[i],\" US dollars\")"
   ]
  },
  {
   "attachments": {},
   "cell_type": "markdown",
   "metadata": {},
   "source": [
    "#### Ex 2: Write a new program, add vehicles and prices [now the list order will go from cheapest to most expensive]. ONLY print the data for the vehicle in the middle of both lists\n",
    "(5 mins max)\n",
    "\n",
    "* Use Ford's SUVs data. See image below:\n",
    "\n",
    "<img src=\"img/fordsuvs.PNG\">\n",
    "\n"
   ]
  },
  {
   "cell_type": "code",
   "execution_count": null,
   "metadata": {},
   "outputs": [],
   "source": [
    "#Solution\n",
    "suvs = [\"Expedition\",\"Explorer hybrid\",\"Mustang Mach-E\", \"Edge\",\"Explorer\",\"Bronco\",\"Escape Hybrid\",\"Bronco Sport\",\"Escape\"]\n",
    "prices = [29215,37945,28000,30340,34890,36760,42995,47070,56075]\n",
    "\n",
    "# Could use sort function from min to max on the prices\n",
    "prices.sort()\n",
    "\n",
    "for i in range(0,len(suvs)):\n",
    "    if i == 4:\n",
    "        print(\"The price for an\", suvs[i],\" is \",prices[i],\" US dollars\")"
   ]
  },
  {
   "attachments": {},
   "cell_type": "markdown",
   "metadata": {},
   "source": [
    "**List of lists**\n",
    "\n",
    "Not only you can add any type of data as an item on a list, you can also add lists to lists and have access to them via their individual index"
   ]
  },
  {
   "cell_type": "code",
   "execution_count": null,
   "metadata": {},
   "outputs": [],
   "source": [
    "listOdds = [1,3,5,7,9]\n",
    "listEvens = [2,4,6,8,10]\n",
    "\n",
    "listNumbers = [0]\n",
    "listNumbers.append(listOdds)\n",
    "listNumbers.append(listEvens)\n",
    "\n",
    "print(listNumbers)"
   ]
  },
  {
   "attachments": {},
   "cell_type": "markdown",
   "metadata": {},
   "source": [
    "**If 0's index is listNumbers[0] and 9's index is listNumbers[1][4]. What is 6's index?**"
   ]
  },
  {
   "cell_type": "code",
   "execution_count": null,
   "metadata": {},
   "outputs": [],
   "source": [
    "print(listNumbers[0])\n",
    "print(listNumbers[1][4])\n",
    "\n",
    "#print(listNumbers[])"
   ]
  },
  {
   "attachments": {},
   "cell_type": "markdown",
   "metadata": {},
   "source": [
    "## **(Tuples) Theory:**\n",
    "\n",
    "Python Tuples are lists BUT, the data stored in tuples CANNOT be modified. If you need a constant collection of data to be accessed during execution.\n",
    "\n",
    "You can perform operations on tuples, reorder them, slice them, access specific indexes BUT you cannot modified the data stored on them."
   ]
  },
  {
   "attachments": {},
   "cell_type": "markdown",
   "metadata": {},
   "source": [
    "**Create a tuple in Python:**"
   ]
  },
  {
   "cell_type": "code",
   "execution_count": null,
   "metadata": {},
   "outputs": [],
   "source": [
    "tupleExample = (1,2,3,\"Ford\", 5, \"Lincoln\", 7.0)\n",
    "print(tupleExample)          "
   ]
  },
  {
   "attachments": {},
   "cell_type": "markdown",
   "metadata": {},
   "source": [
    "**Change tuple's values:**"
   ]
  },
  {
   "cell_type": "code",
   "execution_count": null,
   "metadata": {},
   "outputs": [],
   "source": [
    "tupleExample[0] = 0"
   ]
  },
  {
   "attachments": {},
   "cell_type": "markdown",
   "metadata": {},
   "source": [
    "**Reordering features:**"
   ]
  },
  {
   "cell_type": "code",
   "execution_count": null,
   "metadata": {},
   "outputs": [],
   "source": [
    "print(tupleExample[::-1])"
   ]
  }
 ],
 "metadata": {
  "kernelspec": {
   "display_name": "Python 3",
   "language": "python",
   "name": "python3"
  },
  "language_info": {
   "codemirror_mode": {
    "name": "ipython",
    "version": 3
   },
   "file_extension": ".py",
   "mimetype": "text/x-python",
   "name": "python",
   "nbconvert_exporter": "python",
   "pygments_lexer": "ipython3",
   "version": "3.10.9"
  },
  "orig_nbformat": 4
 },
 "nbformat": 4,
 "nbformat_minor": 2
}
